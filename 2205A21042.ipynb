{
  "nbformat": 4,
  "nbformat_minor": 0,
  "metadata": {
    "colab": {
      "provenance": [],
      "authorship_tag": "ABX9TyOVIOORcoLXKH2j2zxxNqhu",
      "include_colab_link": true
    },
    "kernelspec": {
      "name": "python3",
      "display_name": "Python 3"
    },
    "language_info": {
      "name": "python"
    }
  },
  "cells": [
    {
      "cell_type": "markdown",
      "metadata": {
        "id": "view-in-github",
        "colab_type": "text"
      },
      "source": [
        "<a href=\"https://colab.research.google.com/github/2205a21042/python-/blob/main/2205A21042.ipynb\" target=\"_parent\"><img src=\"https://colab.research.google.com/assets/colab-badge.svg\" alt=\"Open In Colab\"/></a>"
      ]
    },
    {
      "cell_type": "code",
      "execution_count": 1,
      "metadata": {
        "colab": {
          "base_uri": "https://localhost:8080/"
        },
        "id": "5t4kse4ac2Br",
        "outputId": "631181f0-b542-429b-99fb-7e70748d7db3"
      },
      "outputs": [
        {
          "output_type": "stream",
          "name": "stdout",
          "text": [
            "Qualification= ['venkat', 'B.Tech', 2006, 'Μ.Ε.', 2011, 'Ph.D', 2018]\n",
            "Experience= ['SSCE', 2007, 'infosys', '2011', 'AITAM', '2013', 'SREC', '2018']\n",
            "CA= ['venkat', 'B.Tech', 2006, 'Μ.Ε.', 2011, 'Ph.D', 2018, 'SSCE', 2007, 'infosys', '2011', 'AITAM', '2013', 'SREC', '2018']\n"
          ]
        }
      ],
      "source": [
        "Qualification=['venkat', 'B.Tech', 2006, 'Μ.Ε.', 2011, 'Ph.D',2018]\n",
        "Experience=['SSCE', 2007, 'infosys', '2011', 'AITAM', '2013', 'SREC', '2018']\n",
        "CA=Qualification + Experience #Concatination of the two Lists\n",
        "print(\"Qualification=\", Qualification)\n",
        "print(\"Experience=\", Experience)\n",
        "print(\"CA=\", CA)"
      ]
    },
    {
      "cell_type": "code",
      "source": [
        "Qualification=['venkat', 'B.Tech', 2006, 'Μ.Ε.', 2011, 'Ph.D', 2018]\n",
        "print(Qualification)         #Print Qualification\n",
        "print(Qualification[0])      #Print first item in the list\n",
        "print(Qualification[1:])     #Print all items in the List except first one\n",
        "print(Qualification[1:5])    #Print second to fifth items from List\n",
        "print (Qualification * 2)    #Print List twice\n",
        "print(Qualification[::-1])   #Print List reverse"
      ],
      "metadata": {
        "colab": {
          "base_uri": "https://localhost:8080/"
        },
        "id": "hg0HmsM9dRHV",
        "outputId": "de62e6e8-0868-4ca5-c959-b983863817c1"
      },
      "execution_count": 2,
      "outputs": [
        {
          "output_type": "stream",
          "name": "stdout",
          "text": [
            "['venkat', 'B.Tech', 2006, 'Μ.Ε.', 2011, 'Ph.D', 2018]\n",
            "venkat\n",
            "['B.Tech', 2006, 'Μ.Ε.', 2011, 'Ph.D', 2018]\n",
            "['B.Tech', 2006, 'Μ.Ε.', 2011]\n",
            "['venkat', 'B.Tech', 2006, 'Μ.Ε.', 2011, 'Ph.D', 2018, 'venkat', 'B.Tech', 2006, 'Μ.Ε.', 2011, 'Ph.D', 2018]\n",
            "[2018, 'Ph.D', 2011, 'Μ.Ε.', 2006, 'B.Tech', 'venkat']\n"
          ]
        }
      ]
    },
    {
      "cell_type": "code",
      "source": [
        "list=['venkat', '1985']\n",
        "print('venkat,birth year',list[1])\n",
        "list[0]='dev'\n",
        "list[1]=2017\n",
        "print('dev birth year',list[1])"
      ],
      "metadata": {
        "colab": {
          "base_uri": "https://localhost:8080/"
        },
        "id": "WMd2vAYfdWH_",
        "outputId": "76fe0e1f-8587-489e-e0dd-1954a39c1312"
      },
      "execution_count": 4,
      "outputs": [
        {
          "output_type": "stream",
          "name": "stdout",
          "text": [
            "venkat,birth year 1985\n",
            "dev birth year 2017\n"
          ]
        }
      ]
    },
    {
      "cell_type": "code",
      "source": [
        "list=['venkat', '1985']\n",
        "print(list)\n",
        "del list[1]\n",
        "print(list)"
      ],
      "metadata": {
        "colab": {
          "base_uri": "https://localhost:8080/"
        },
        "id": "SmXPIhRyfme0",
        "outputId": "f3a062d4-a1f9-4139-8e88-0191cdd512d0"
      },
      "execution_count": 6,
      "outputs": [
        {
          "output_type": "stream",
          "name": "stdout",
          "text": [
            "['venkat', '1985']\n",
            "['venkat']\n"
          ]
        }
      ]
    },
    {
      "cell_type": "code",
      "source": [
        "Grade=['A','A','B','C','A','B']\n",
        "print(\"lowest index for grade B\",Grade.index(\"B\"))"
      ],
      "metadata": {
        "colab": {
          "base_uri": "https://localhost:8080/"
        },
        "id": "XGue2QDxgqtg",
        "outputId": "d2b76300-8898-4847-fba6-31f177af25e5"
      },
      "execution_count": 7,
      "outputs": [
        {
          "output_type": "stream",
          "name": "stdout",
          "text": [
            "lowest index for grade B 2\n"
          ]
        }
      ]
    },
    {
      "cell_type": "code",
      "source": [
        "Qualification = ['venkat', 'B.Tech', 2006, 'Μ.Ε', 2011, 'Ph.D', 2018]\n",
        "print(Qualification)\n",
        "print(Qualification[0])\n",
        "print(Qualification[1:])\n",
        "print(Qualification[1:5])\n",
        "print(Qualification *2)\n",
        "print(Qualification[::-1])"
      ],
      "metadata": {
        "colab": {
          "base_uri": "https://localhost:8080/"
        },
        "id": "QZKsuBrhgykS",
        "outputId": "d1a2eba0-bc1b-4afa-cde4-aad4a253f604"
      },
      "execution_count": 8,
      "outputs": [
        {
          "output_type": "stream",
          "name": "stdout",
          "text": [
            "['venkat', 'B.Tech', 2006, 'Μ.Ε', 2011, 'Ph.D', 2018]\n",
            "venkat\n",
            "['B.Tech', 2006, 'Μ.Ε', 2011, 'Ph.D', 2018]\n",
            "['B.Tech', 2006, 'Μ.Ε', 2011]\n",
            "['venkat', 'B.Tech', 2006, 'Μ.Ε', 2011, 'Ph.D', 2018, 'venkat', 'B.Tech', 2006, 'Μ.Ε', 2011, 'Ph.D', 2018]\n",
            "[2018, 'Ph.D', 2011, 'Μ.Ε', 2006, 'B.Tech', 'venkat']\n"
          ]
        }
      ]
    },
    {
      "cell_type": "code",
      "source": [
        "Name=['Ramana', 'Thanmai', 'Dev']\n",
        "DOB=[1985,2014,2017]\n",
        "print('Number of peoples',len(Name))\n",
        "print('==================')\n",
        "Details=Name+DOB\n",
        "print('Biodata', Details)\n",
        "print('===================')\n",
        "Repetition=Name*2\n",
        "print('Repetition', Repetition)\n",
        "print('====================')\n",
        "for x in Name:\n",
        "  print(x)\n",
        "print(\"=================\")"
      ],
      "metadata": {
        "colab": {
          "base_uri": "https://localhost:8080/"
        },
        "id": "KfmODD0Qg1jK",
        "outputId": "e59caa09-1fe8-4f01-f39b-d5c4d2875e4e"
      },
      "execution_count": 9,
      "outputs": [
        {
          "output_type": "stream",
          "name": "stdout",
          "text": [
            "Number of peoples 3\n",
            "==================\n",
            "Biodata ['Ramana', 'Thanmai', 'Dev', 1985, 2014, 2017]\n",
            "===================\n",
            "Repetition ['Ramana', 'Thanmai', 'Dev', 'Ramana', 'Thanmai', 'Dev']\n",
            "====================\n",
            "Ramana\n",
            "Thanmai\n",
            "Dev\n",
            "=================\n"
          ]
        }
      ]
    },
    {
      "cell_type": "code",
      "source": [
        "Family=[\"Venkat\", \"Swetha\"]\n",
        "print('Family members', Family)\n",
        "atuple=(\"Dev\", \"Thanmai\")\n",
        "Family.extend(atuple)\n",
        "print('Family members', Family)"
      ],
      "metadata": {
        "colab": {
          "base_uri": "https://localhost:8080/"
        },
        "id": "_t3LrESpg7j2",
        "outputId": "7202f418-3f55-437a-d5c0-9a131badc60a"
      },
      "execution_count": 10,
      "outputs": [
        {
          "output_type": "stream",
          "name": "stdout",
          "text": [
            "Family members ['Venkat', 'Swetha']\n",
            "Family members ['Venkat', 'Swetha', 'Dev', 'Thanmai']\n"
          ]
        }
      ]
    },
    {
      "cell_type": "code",
      "source": [
        "Name =['Ramana', 'Thanmal', 'Dev']\n",
        "DOB=[1985,2014,2017]\n",
        "print('Name with maximum charecters', max(Name))\n",
        "print(\"Younger person DOB\", max(DOB))\n",
        "print(\"Name with minimum charecters\", min(Name))\n",
        "print('Older person DOB',min(DOB))"
      ],
      "metadata": {
        "colab": {
          "base_uri": "https://localhost:8080/"
        },
        "id": "Kcti9LIPg_bW",
        "outputId": "d7b1b503-570f-4131-db57-d2be10ef61e6"
      },
      "execution_count": 11,
      "outputs": [
        {
          "output_type": "stream",
          "name": "stdout",
          "text": [
            "Name with maximum charecters Thanmal\n",
            "Younger person DOB 2017\n",
            "Name with minimum charecters Dev\n",
            "Older person DOB 1985\n"
          ]
        }
      ]
    },
    {
      "cell_type": "code",
      "source": [
        "Family=[\"Ramana\", \"Swetha\", \"Thanmai\", \"Dev\"]\n",
        "print(\"Family members\", Family)\n",
        "Family.reverse()\n",
        "print(\"Family members\", Family)"
      ],
      "metadata": {
        "colab": {
          "base_uri": "https://localhost:8080/"
        },
        "id": "VDcpzR0BhFKt",
        "outputId": "7475b644-47ec-466f-c3be-5d7a6b18c5af"
      },
      "execution_count": 12,
      "outputs": [
        {
          "output_type": "stream",
          "name": "stdout",
          "text": [
            "Family members ['Ramana', 'Swetha', 'Thanmai', 'Dev']\n",
            "Family members ['Dev', 'Thanmai', 'Swetha', 'Ramana']\n"
          ]
        }
      ]
    },
    {
      "cell_type": "code",
      "source": [
        "Family=[\"Ramana\",\"Thanmai\", \"Dev\"]\n",
        "print(\"Family members\", Family)\n",
        "Family.insert(1,\"swetha\")\n",
        "print(\"Family members\", Family)"
      ],
      "metadata": {
        "colab": {
          "base_uri": "https://localhost:8080/"
        },
        "id": "GsaxIKpFhLO4",
        "outputId": "4330c559-af38-4ec2-e4ac-fde323800e2e"
      },
      "execution_count": 13,
      "outputs": [
        {
          "output_type": "stream",
          "name": "stdout",
          "text": [
            "Family members ['Ramana', 'Thanmai', 'Dev']\n",
            "Family members ['Ramana', 'swetha', 'Thanmai', 'Dev']\n"
          ]
        }
      ]
    },
    {
      "cell_type": "code",
      "source": [
        "Family=[\"Ramana\", \"Swetha\", \"Thanmai\", \"Dev\"]\n",
        "print(\"Family members\", Family)\n",
        "Family.pop()\n",
        "print(\"Family members\", Family)\n",
        "Family.pop(2)\n",
        "print('Family members', Family)"
      ],
      "metadata": {
        "colab": {
          "base_uri": "https://localhost:8080/"
        },
        "id": "TpHSIgqAhQXZ",
        "outputId": "d2b460fa-0c24-40aa-8da5-96d8b8fce482"
      },
      "execution_count": 14,
      "outputs": [
        {
          "output_type": "stream",
          "name": "stdout",
          "text": [
            "Family members ['Ramana', 'Swetha', 'Thanmai', 'Dev']\n",
            "Family members ['Ramana', 'Swetha', 'Thanmai']\n",
            "Family members ['Ramana', 'Swetha']\n"
          ]
        }
      ]
    },
    {
      "cell_type": "code",
      "source": [
        "tuple=('venkat','B.tech',2006)\n",
        "print(tuple)\n",
        "print(tuple[0])\n",
        "print(tuple[0:2])\n",
        "print(tuple[0:])\n",
        "print(tuple[::-1])\n",
        "print(tuple[2:0:-1])"
      ],
      "metadata": {
        "colab": {
          "base_uri": "https://localhost:8080/"
        },
        "id": "cFI0e2xmhUK2",
        "outputId": "107097d6-0374-4b71-eac2-63c16dc6f2de"
      },
      "execution_count": 15,
      "outputs": [
        {
          "output_type": "stream",
          "name": "stdout",
          "text": [
            "('venkat', 'B.tech', 2006)\n",
            "venkat\n",
            "('venkat', 'B.tech')\n",
            "('venkat', 'B.tech', 2006)\n",
            "(2006, 'B.tech', 'venkat')\n",
            "(2006, 'B.tech')\n"
          ]
        }
      ]
    },
    {
      "cell_type": "code",
      "source": [
        "tiny={'Name':'venkat','Marks':891}\n",
        "print(tiny)\n",
        "print(tiny['Name'])\n",
        "print(tiny['Marks'])\n",
        "tiny['Name']='ramana'\n",
        "print(tiny)"
      ],
      "metadata": {
        "colab": {
          "base_uri": "https://localhost:8080/"
        },
        "id": "-JWlM9GbhW5Z",
        "outputId": "098b298b-546d-45be-b26b-1b21667293a8"
      },
      "execution_count": 16,
      "outputs": [
        {
          "output_type": "stream",
          "name": "stdout",
          "text": [
            "{'Name': 'venkat', 'Marks': 891}\n",
            "venkat\n",
            "891\n",
            "{'Name': 'ramana', 'Marks': 891}\n"
          ]
        }
      ]
    },
    {
      "cell_type": "code",
      "source": [
        "dict={}\n",
        "print(dict)\n",
        "dict['one']='this is one'\n",
        "print(dict)\n",
        "dict['2']='this is two'\n",
        "print(dict)\n",
        "print(dict.keys())\n",
        "print(dict.values())"
      ],
      "metadata": {
        "colab": {
          "base_uri": "https://localhost:8080/"
        },
        "id": "mHsgAB0lhZxm",
        "outputId": "1b4864e6-24b6-4f35-8a2b-5619fab24009"
      },
      "execution_count": 17,
      "outputs": [
        {
          "output_type": "stream",
          "name": "stdout",
          "text": [
            "{}\n",
            "{'one': 'this is one'}\n",
            "{'one': 'this is one', '2': 'this is two'}\n",
            "dict_keys(['one', '2'])\n",
            "dict_values(['this is one', 'this is two'])\n"
          ]
        }
      ]
    },
    {
      "cell_type": "code",
      "source": [
        "thisset={\"apple\", \"banana\", \"cherry\"}\n",
        "mylist = [\"kiwi\", \"orange\"]\n",
        "mylist_2=(2,3)\n",
        "mylist_3={\"Name\": \"Venkat\", \"School\": \"SRU\"}\n",
        "\n",
        "thisset.update(mylist)\n",
        "thisset.update(mylist_2)\n",
        "thisset.update(mylist_3)\n",
        "\n",
        "print(thisset)"
      ],
      "metadata": {
        "colab": {
          "base_uri": "https://localhost:8080/"
        },
        "id": "t4I70xkvhckJ",
        "outputId": "49123c47-648b-4eb1-a278-ecdf4f7f0d3d"
      },
      "execution_count": 18,
      "outputs": [
        {
          "output_type": "stream",
          "name": "stdout",
          "text": [
            "{2, 3, 'School', 'orange', 'cherry', 'Name', 'apple', 'kiwi', 'banana'}\n"
          ]
        }
      ]
    },
    {
      "cell_type": "code",
      "source": [
        "thisset={\"apple\", \"banana\", \"cherry\"}\n",
        "for x in thisset:\n",
        "    print(x)"
      ],
      "metadata": {
        "colab": {
          "base_uri": "https://localhost:8080/"
        },
        "id": "sHTsoTAzhfYe",
        "outputId": "285d5d72-591d-41d7-b9cd-c2b37d8d5407"
      },
      "execution_count": 19,
      "outputs": [
        {
          "output_type": "stream",
          "name": "stdout",
          "text": [
            "apple\n",
            "cherry\n",
            "banana\n"
          ]
        }
      ]
    },
    {
      "cell_type": "code",
      "source": [
        "thisset={\"apple\", \"banana\", \"Cherry\"}\n",
        "tropical={\"pineapple\", \"mango\", \"papaya\"}\n",
        "\n",
        "thisset.update(tropical)\n",
        "\n",
        "print(thisset)"
      ],
      "metadata": {
        "colab": {
          "base_uri": "https://localhost:8080/"
        },
        "id": "UHSmoaHVhiNX",
        "outputId": "d69e8752-f644-4008-8abf-1bb704ab7865"
      },
      "execution_count": 20,
      "outputs": [
        {
          "output_type": "stream",
          "name": "stdout",
          "text": [
            "{'pineapple', 'Cherry', 'mango', 'papaya', 'apple', 'banana'}\n"
          ]
        }
      ]
    },
    {
      "cell_type": "code",
      "source": [],
      "metadata": {
        "id": "pKIUYfmyhm35"
      },
      "execution_count": null,
      "outputs": []
    }
  ]
}