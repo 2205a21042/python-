{
  "nbformat": 4,
  "nbformat_minor": 0,
  "metadata": {
    "colab": {
      "provenance": [],
      "authorship_tag": "ABX9TyPWLcFJLMVentWhPPjVVgDJ",
      "include_colab_link": true
    },
    "kernelspec": {
      "name": "python3",
      "display_name": "Python 3"
    },
    "language_info": {
      "name": "python"
    }
  },
  "cells": [
    {
      "cell_type": "markdown",
      "metadata": {
        "id": "view-in-github",
        "colab_type": "text"
      },
      "source": [
        "<a href=\"https://colab.research.google.com/github/2205a21042/python-/blob/main/2205a21042.ipynb\" target=\"_parent\"><img src=\"https://colab.research.google.com/assets/colab-badge.svg\" alt=\"Open In Colab\"/></a>"
      ]
    },
    {
      "cell_type": "code",
      "execution_count": 4,
      "metadata": {
        "colab": {
          "base_uri": "https://localhost:8080/"
        },
        "id": "JN576fgNnUIn",
        "outputId": "76b0bef4-6f76-485c-c2ce-5d17b4f55ee3"
      },
      "outputs": [
        {
          "output_type": "stream",
          "name": "stdout",
          "text": [
            "enter the receving end voltage:220000\n",
            "enter the length:10\n",
            "enter the resistance per phase:15\n",
            "enter the inductance per phase:13262\n",
            "enter the apparent power:10\n",
            "enter the power factor:0\n",
            "0:lagging 1: leading0\n",
            "voltage_regulation= 6.487603310722244e-05\n",
            "apparent power= (3.099173553719007e-07+10.000006487603304j)\n",
            "sending end= 3.099173553719007e-07\n",
            "efficiency= 0.0\n"
          ]
        }
      ],
      "source": [
        "import math\n",
        "Vr=float(input((\"enter the receving end voltage:\")))\n",
        "length=float(input(\"enter the length:\"))\n",
        "r=float(input(\"enter the resistance per phase:\"))\n",
        "l=float(input(\"enter the inductance per phase:\"))\n",
        "load=float(input(\"enter the apparent power:\"))\n",
        "pf=float(input(\"enter the power factor:\"))\n",
        "type_pf=int(input(\"0:lagging 1: leading\"))\n",
        "Vphase=Vr/math.sqrt(3)\n",
        "R=r*length\n",
        "L=1*length\n",
        "X=2*3.14*50*L\n",
        "Z=complex(R,X)\n",
        "p=load*pf\n",
        "Q=load*math.sqrt(1-pf**2)\n",
        "\n",
        "if(type_pf==0):\n",
        "  S=complex(p,Q)\n",
        "else:\n",
        "  S=complex(p,Q)\n",
        "Ir=(S.conjugate())/(3*Vphase)\n",
        "Vs=Vphase+Z*Ir\n",
        "voltage_regulation=(abs (Vs)-Vphase)*100/Vphase\n",
        "print(\"voltage_regulation=\",voltage_regulation)\n",
        "Ssend=3*Vs*Ir.conjugate()\n",
        "print(\"apparent power=\",Ssend)\n",
        "psend=Ssend.real\n",
        "print(\"sending end=\",psend)\n",
        "eff=p*100/psend\n",
        "print(\"efficiency=\",eff)"
      ]
    }
  ]
}